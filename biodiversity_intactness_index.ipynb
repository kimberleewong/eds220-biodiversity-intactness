{
 "cells": [
  {
   "cell_type": "markdown",
   "id": "9253fabe-a9ca-4b50-a8ad-90abb4af56e1",
   "metadata": {},
   "source": [
    "# Biodiversity Intactness Index change in Phoenix, AZ \n",
    "\n",
    "### Author: Kimberlee Wong\n",
    "### Link to [Repository](https://kimberleewong.github.io/)\n",
    "\n",
    "## About\n",
    "\n",
    "### Purpose\n",
    "The following analysis was done in two-fold. Its purpose is to get a better understanding of the 2017 Thomas Fire that affected Ventura and Santa Barbara Counties. The first part shows the process of producing a graph that shows how the average air quality was affected, and the second part visualizes the region of fire through a false imagery map. \n",
    "\n",
    "### Highlights\n",
    "\n",
    "- Using rioxr to import the landsat data and access its attribute\n",
    "- Visualizing both true and false color images\n",
    "- Combining two different datasets to make one map\n",
    "\n",
    "### About the Data\n",
    "\n",
    "The landsat data comes from Microsoft Planetary Computer Data Catalogue, and it is a simplified collection of colored bands. It was processed to remove data outside land and coarsen the spatial resolution. \n",
    "\n",
    "The Thomas Fire boundary was created in the previous notebook by filtering a California Fire perimeter file available from the US Government Data Catalogue.\n",
    "\n",
    "### References\n",
    "\n",
    "Microsoft Planetary Computer Data Catalogue, Landsat collection 2 Level-2 [Data file] Available from: https://planetarycomputer.microsoft.com/dataset/landsat-c2-l2. Access date: November 23, 2024.\n",
    "\n",
    "\n",
    "Data.gov Data Catalogue, California Fire Perimeters (all) [Data file] Available from: https://catalog.data.gov/dataset/california-fire-perimeters-all-b3436. Access date: November 23, 2024."
   ]
  },
  {
   "cell_type": "markdown",
   "id": "7902a42e-d48b-4dd5-91e6-e8d252020ccb",
   "metadata": {},
   "source": [
    "## Import Libraries and Load Data"
   ]
  },
  {
   "cell_type": "code",
   "execution_count": 1,
   "id": "a270146c-b09d-4f5a-b9ed-5f1e52106ac3",
   "metadata": {
    "tags": []
   },
   "outputs": [],
   "source": [
    "import os\n",
    "import numpy as np\n",
    "import matplotlib.pyplot as plt\n",
    "import geopandas as gpd\n",
    "import rioxarray as rioxr\n",
    "from shapely.geometry import box  # To create polygon bounding box\n",
    "\n",
    "from pystac_client import Client  # To access STAC catalogs\n",
    "\n",
    "import planetary_computer  # To sign items from the MPC STAC catalog \n",
    "\n",
    "from IPython.display import Image  # To nicely display images\n",
    "\n",
    "pd.set_option(\"display.max.columns\", None) # To see all columns"
   ]
  },
  {
   "cell_type": "markdown",
   "id": "faa20f06-ed2d-46f7-a2e5-7f8ba6454b47",
   "metadata": {},
   "source": []
  },
  {
   "cell_type": "markdown",
   "id": "b9250397-4efb-4ab0-8a9c-fc45a16777a1",
   "metadata": {},
   "source": [
    "## Access"
   ]
  },
  {
   "cell_type": "code",
   "execution_count": null,
   "id": "f80561fc-b4c7-4e86-8cc0-b16644accf6c",
   "metadata": {},
   "outputs": [],
   "source": [
    "# Biodiversity Intactness Index (BII) Time Series Collection #\n",
    "\n",
    "# Access MPC catalog\n",
    "catalog = Client.open(\n",
    "    \"https://planetarycomputer.microsoft.com/api/stac/v1\",\n",
    "    modifier=planetary_computer.sign_inplace,\n",
    ")\n",
    "\n"
   ]
  }
 ],
 "metadata": {
  "kernelspec": {
   "display_name": "Anaconda 3 (EDS220)",
   "language": "python",
   "name": "eds220-env"
  },
  "language_info": {
   "codemirror_mode": {
    "name": "ipython",
    "version": 3
   },
   "file_extension": ".py",
   "mimetype": "text/x-python",
   "name": "python",
   "nbconvert_exporter": "python",
   "pygments_lexer": "ipython3",
   "version": "3.11.4"
  }
 },
 "nbformat": 4,
 "nbformat_minor": 5
}
